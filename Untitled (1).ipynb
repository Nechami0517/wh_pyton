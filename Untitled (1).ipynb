{
 "cells": [
  {
   "cell_type": "code",
   "execution_count": null,
   "id": "dfcc458d-db0b-40ef-b6c7-8bde5d73a1e8",
   "metadata": {},
   "outputs": [],
   "source": []
  },
  {
   "cell_type": "code",
   "execution_count": null,
   "id": "93438e77-3acf-4f86-bca3-0ff5d920f45f",
   "metadata": {},
   "outputs": [],
   "source": []
  },
  {
   "cell_type": "code",
   "execution_count": 4,
   "id": "4c113c2a-20ef-42c3-a92a-dad04b8921f8",
   "metadata": {
    "scrolled": true
   },
   "outputs": [
    {
     "ename": "SyntaxError",
     "evalue": "invalid syntax (3126812996.py, line 1)",
     "output_type": "error",
     "traceback": [
      "\u001b[1;36m  Cell \u001b[1;32mIn[4], line 1\u001b[1;36m\u001b[0m\n\u001b[1;33m    pip install numpy\u001b[0m\n\u001b[1;37m        ^\u001b[0m\n\u001b[1;31mSyntaxError\u001b[0m\u001b[1;31m:\u001b[0m invalid syntax\n"
     ]
    }
   ],
   "source": [
    "pip install numpy\n",
    "\n",
    "\n",
    "\n",
    "\n"
   ]
  },
  {
   "cell_type": "code",
   "execution_count": 6,
   "id": "5505167a-132c-448a-9a5e-82904cc84167",
   "metadata": {},
   "outputs": [],
   "source": [
    "import numpy as np"
   ]
  },
  {
   "cell_type": "code",
   "execution_count": 10,
   "id": "6b018e25-0f8e-40c9-9f69-a8e7c1d51903",
   "metadata": {},
   "outputs": [],
   "source": [
    "arr = np.random.randint(0,50,size=(10))"
   ]
  },
  {
   "cell_type": "code",
   "execution_count": 11,
   "id": "e5ea57cf-ac74-4ffa-8bb0-1e8e2bf5d9f2",
   "metadata": {},
   "outputs": [
    {
     "data": {
      "text/plain": [
       "array([23, 23, 15, 49,  8, 24, 34, 42,  0, 23], dtype=int32)"
      ]
     },
     "execution_count": 11,
     "metadata": {},
     "output_type": "execute_result"
    }
   ],
   "source": [
    "arr"
   ]
  },
  {
   "cell_type": "code",
   "execution_count": 16,
   "id": "c5a904e7-0abe-4aa7-8f99-084e98ea506c",
   "metadata": {},
   "outputs": [],
   "source": [
    "avg = np.mean(arr)"
   ]
  },
  {
   "cell_type": "code",
   "execution_count": 17,
   "id": "b870023d-5a3a-4beb-a6cd-589534030589",
   "metadata": {},
   "outputs": [
    {
     "data": {
      "text/plain": [
       "np.float64(24.1)"
      ]
     },
     "execution_count": 17,
     "metadata": {},
     "output_type": "execute_result"
    }
   ],
   "source": [
    "avg\n"
   ]
  },
  {
   "cell_type": "code",
   "execution_count": 23,
   "id": "277ddf73-230e-4bcd-b767-b4e5d948b410",
   "metadata": {},
   "outputs": [],
   "source": [
    "arr1 = np.random.randint(5,15,size = (3,3))\n",
    "arr2 = np.random.randint(8,17,size = (3,3))"
   ]
  },
  {
   "cell_type": "code",
   "execution_count": 25,
   "id": "e1bdf3e7-819d-4e75-816a-acc0830d840d",
   "metadata": {},
   "outputs": [],
   "source": [
    "avg1 = np.add(arr1,arr2)"
   ]
  },
  {
   "cell_type": "code",
   "execution_count": 26,
   "id": "f579777f-5030-434b-bd6f-b34c69dd2b72",
   "metadata": {},
   "outputs": [
    {
     "data": {
      "text/plain": [
       "array([[24, 25, 22],\n",
       "       [26, 19, 26],\n",
       "       [19, 24, 22]], dtype=int32)"
      ]
     },
     "execution_count": 26,
     "metadata": {},
     "output_type": "execute_result"
    }
   ],
   "source": [
    "avg1\n"
   ]
  },
  {
   "cell_type": "code",
   "execution_count": 28,
   "id": "567b4177-04b5-4523-ba9f-4fec853a732d",
   "metadata": {},
   "outputs": [],
   "source": [
    "avg2 = np.mean(avg1)"
   ]
  },
  {
   "cell_type": "code",
   "execution_count": 29,
   "id": "c00527d4-688c-4e7a-9b2c-15822d27d99a",
   "metadata": {},
   "outputs": [
    {
     "data": {
      "text/plain": [
       "np.float64(23.0)"
      ]
     },
     "execution_count": 29,
     "metadata": {},
     "output_type": "execute_result"
    }
   ],
   "source": [
    "avg2"
   ]
  },
  {
   "cell_type": "code",
   "execution_count": 32,
   "id": "3c0c85db-12fe-4bf0-afd0-5038e24df3b9",
   "metadata": {},
   "outputs": [
    {
     "data": {
      "text/plain": [
       "array([35, 67, 32, 77, 43, 89, 70, 57, 66, 25, 39, 49, 98,  6, 79, 22, 25,\n",
       "       67, 52, 54], dtype=int32)"
      ]
     },
     "execution_count": 32,
     "metadata": {},
     "output_type": "execute_result"
    }
   ],
   "source": [
    "arr4 = np.random.randint(1,100,size =(20))\n",
    "arr4"
   ]
  },
  {
   "cell_type": "code",
   "execution_count": 34,
   "id": "a5b8f6f0-a3b0-4e2f-a391-d2caae480d99",
   "metadata": {},
   "outputs": [
    {
     "ename": "IndexError",
     "evalue": "boolean index did not match indexed array along axis 0; size of axis is 10 but size of corresponding boolean axis is 20",
     "output_type": "error",
     "traceback": [
      "\u001b[1;31m---------------------------------------------------------------------------\u001b[0m",
      "\u001b[1;31mIndexError\u001b[0m                                Traceback (most recent call last)",
      "Cell \u001b[1;32mIn[34], line 2\u001b[0m\n\u001b[0;32m      1\u001b[0m condition \u001b[38;5;241m=\u001b[39m arr4\u001b[38;5;241m>\u001b[39m\u001b[38;5;241m50\u001b[39m\n\u001b[1;32m----> 2\u001b[0m filter_arr \u001b[38;5;241m=\u001b[39m \u001b[43marr\u001b[49m\u001b[43m[\u001b[49m\u001b[43mcondition\u001b[49m\u001b[43m]\u001b[49m\n\u001b[0;32m      3\u001b[0m filter_arr\n",
      "\u001b[1;31mIndexError\u001b[0m: boolean index did not match indexed array along axis 0; size of axis is 10 but size of corresponding boolean axis is 20"
     ]
    }
   ],
   "source": [
    "condition = arr4>50\n",
    "filter_arr = arr[condition]\n",
    "filter_arr"
   ]
  },
  {
   "cell_type": "code",
   "execution_count": null,
   "id": "49730457-f4e8-43d4-82cf-267c5413d221",
   "metadata": {},
   "outputs": [],
   "source": []
  }
 ],
 "metadata": {
  "kernelspec": {
   "display_name": "Python 3 (ipykernel)",
   "language": "python",
   "name": "python3"
  },
  "language_info": {
   "codemirror_mode": {
    "name": "ipython",
    "version": 3
   },
   "file_extension": ".py",
   "mimetype": "text/x-python",
   "name": "python",
   "nbconvert_exporter": "python",
   "pygments_lexer": "ipython3",
   "version": "3.10.8"
  }
 },
 "nbformat": 4,
 "nbformat_minor": 5
}
